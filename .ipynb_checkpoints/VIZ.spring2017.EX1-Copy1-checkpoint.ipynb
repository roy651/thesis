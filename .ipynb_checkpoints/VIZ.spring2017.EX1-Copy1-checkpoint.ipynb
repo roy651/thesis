{
 "cells": [
  {
   "cell_type": "code",
   "execution_count": 1,
   "metadata": {
    "collapsed": false
   },
   "outputs": [
    {
     "name": "stderr",
     "output_type": "stream",
     "text": [
      "Warning message in eval(expr, envir, enclos):\n",
      "“NAs introduced by coercion”"
     ]
    },
    {
     "name": "stdout",
     "output_type": "stream",
     "text": [
      "[1] 3577.214\n",
      "[1] 758.6547\n"
     ]
    }
   ],
   "source": [
    "# QUESTION #1\n",
    "\n",
    "# Load the file and attach\n",
    "setwd(\"/Users/il239838/Downloads/private/VIZ\")\n",
    "cars <- read.csv(file=\"cars.csv\",head=TRUE,sep=\",\")\n",
    "attach (cars)\n",
    "\n",
    "# Adjust the weight for missing items and calc them according to mean of others\n",
    "L = (Weight == '*')\n",
    "cars2 = cars [!L,]\n",
    "cars2$Weight = as.integer(as.character(cars2$Weight))\n",
    "cars [[\"Weight\"]] = as.integer(as.character(cars[[\"Weight\"]]))\n",
    "cars [L,\"Weight\"] = mean (cars2$Weight)\n",
    "# print(cars[[\"Weight\"]])\n",
    "\n",
    "# Print the mean and std\n",
    "print(mean(cars[[\"Weight\"]]))\n",
    "print(sd(cars[[\"Weight\"]]))\n"
   ]
  },
  {
   "cell_type": "code",
   "execution_count": 2,
   "metadata": {
    "collapsed": false
   },
   "outputs": [
    {
     "name": "stderr",
     "output_type": "stream",
     "text": [
      "Warning message in eval(expr, envir, enclos):\n",
      "“NAs introduced by coercion”Warning message in eval(expr, envir, enclos):\n",
      "“NAs introduced by coercion”Warning message in eval(expr, envir, enclos):\n",
      "“NAs introduced by coercion”"
     ]
    },
    {
     "data": {
      "text/html": [
       "<table>\n",
       "<thead><tr><th scope=col>Group.1</th><th scope=col>Retail.Price</th><th scope=col>Dealer.Cost</th><th scope=col>Engine.Size..l.</th><th scope=col>Cyl</th><th scope=col>HP</th><th scope=col>City.MPG</th><th scope=col>Hwy.MPG</th><th scope=col>Weight</th><th scope=col>Wheel.Base</th></tr></thead>\n",
       "<tbody>\n",
       "\t<tr><td>Minivan   </td><td>27796.50  </td><td>25355.50  </td><td>3.535000  </td><td>5.900000  </td><td>204.4500  </td><td>17.90000  </td><td>24.45000  </td><td>4193.600  </td><td>117.40000 </td></tr>\n",
       "\t<tr><td>Pickup    </td><td>24941.38  </td><td>22616.75  </td><td>4.079167  </td><td>6.250000  </td><td>224.8333  </td><td>16.83706  </td><td>21.41274  </td><td>4250.750  </td><td>123.00000 </td></tr>\n",
       "\t<tr><td>Regular   </td><td>29814.36  </td><td>27446.14  </td><td>2.908571  </td><td>5.530612  </td><td>200.0857  </td><td>21.70532  </td><td>29.27817  </td><td>3321.788  </td><td>107.18509 </td></tr>\n",
       "\t<tr><td>SUV       </td><td>34790.25  </td><td>31625.35  </td><td>3.920000  </td><td>6.566667  </td><td>235.8167  </td><td>16.26816  </td><td>20.73176  </td><td>4444.433  </td><td>111.08333 </td></tr>\n",
       "\t<tr><td>Sports Car</td><td>53387.06  </td><td>48473.16  </td><td>3.442857  </td><td>6.040816  </td><td>284.1633  </td><td>18.65671  </td><td>25.77167  </td><td>3295.694  </td><td> 99.97959 </td></tr>\n",
       "\t<tr><td>Wagon     </td><td>28840.53  </td><td>26645.63  </td><td>2.770000  </td><td>5.300000  </td><td>194.0000  </td><td>20.93631  </td><td>27.76353  </td><td>3438.800  </td><td>105.80000 </td></tr>\n",
       "</tbody>\n",
       "</table>\n"
      ],
      "text/latex": [
       "\\begin{tabular}{r|llllllllll}\n",
       " Group.1 & Retail.Price & Dealer.Cost & Engine.Size..l. & Cyl & HP & City.MPG & Hwy.MPG & Weight & Wheel.Base\\\\\n",
       "\\hline\n",
       "\t Minivan    & 27796.50   & 25355.50   & 3.535000   & 5.900000   & 204.4500   & 17.90000   & 24.45000   & 4193.600   & 117.40000 \\\\\n",
       "\t Pickup     & 24941.38   & 22616.75   & 4.079167   & 6.250000   & 224.8333   & 16.83706   & 21.41274   & 4250.750   & 123.00000 \\\\\n",
       "\t Regular    & 29814.36   & 27446.14   & 2.908571   & 5.530612   & 200.0857   & 21.70532   & 29.27817   & 3321.788   & 107.18509 \\\\\n",
       "\t SUV        & 34790.25   & 31625.35   & 3.920000   & 6.566667   & 235.8167   & 16.26816   & 20.73176   & 4444.433   & 111.08333 \\\\\n",
       "\t Sports Car & 53387.06   & 48473.16   & 3.442857   & 6.040816   & 284.1633   & 18.65671   & 25.77167   & 3295.694   &  99.97959 \\\\\n",
       "\t Wagon      & 28840.53   & 26645.63   & 2.770000   & 5.300000   & 194.0000   & 20.93631   & 27.76353   & 3438.800   & 105.80000 \\\\\n",
       "\\end{tabular}\n"
      ],
      "text/markdown": [
       "\n",
       "Group.1 | Retail.Price | Dealer.Cost | Engine.Size..l. | Cyl | HP | City.MPG | Hwy.MPG | Weight | Wheel.Base | \n",
       "|---|---|---|---|---|---|\n",
       "| Minivan    | 27796.50   | 25355.50   | 3.535000   | 5.900000   | 204.4500   | 17.90000   | 24.45000   | 4193.600   | 117.40000  | \n",
       "| Pickup     | 24941.38   | 22616.75   | 4.079167   | 6.250000   | 224.8333   | 16.83706   | 21.41274   | 4250.750   | 123.00000  | \n",
       "| Regular    | 29814.36   | 27446.14   | 2.908571   | 5.530612   | 200.0857   | 21.70532   | 29.27817   | 3321.788   | 107.18509  | \n",
       "| SUV        | 34790.25   | 31625.35   | 3.920000   | 6.566667   | 235.8167   | 16.26816   | 20.73176   | 4444.433   | 111.08333  | \n",
       "| Sports Car | 53387.06   | 48473.16   | 3.442857   | 6.040816   | 284.1633   | 18.65671   | 25.77167   | 3295.694   |  99.97959  | \n",
       "| Wagon      | 28840.53   | 26645.63   | 2.770000   | 5.300000   | 194.0000   | 20.93631   | 27.76353   | 3438.800   | 105.80000  | \n",
       "\n",
       "\n"
      ],
      "text/plain": [
       "  Group.1    Retail.Price Dealer.Cost Engine.Size..l. Cyl      HP      \n",
       "1 Minivan    27796.50     25355.50    3.535000        5.900000 204.4500\n",
       "2 Pickup     24941.38     22616.75    4.079167        6.250000 224.8333\n",
       "3 Regular    29814.36     27446.14    2.908571        5.530612 200.0857\n",
       "4 SUV        34790.25     31625.35    3.920000        6.566667 235.8167\n",
       "5 Sports Car 53387.06     48473.16    3.442857        6.040816 284.1633\n",
       "6 Wagon      28840.53     26645.63    2.770000        5.300000 194.0000\n",
       "  City.MPG Hwy.MPG  Weight   Wheel.Base\n",
       "1 17.90000 24.45000 4193.600 117.40000 \n",
       "2 16.83706 21.41274 4250.750 123.00000 \n",
       "3 21.70532 29.27817 3321.788 107.18509 \n",
       "4 16.26816 20.73176 4444.433 111.08333 \n",
       "5 18.65671 25.77167 3295.694  99.97959 \n",
       "6 20.93631 27.76353 3438.800 105.80000 "
      ]
     },
     "metadata": {},
     "output_type": "display_data"
    }
   ],
   "source": [
    "# QUESTION #2\n",
    "\n",
    "# Create a new column for the type\n",
    "cars[\"Type\"] = \"Regular\"\n",
    "cars[cars[2]==1, \"Type\"] = \"Sports Car\"\n",
    "cars[cars[3]==1, \"Type\"] = \"SUV\"\n",
    "cars[cars[4]==1, \"Type\"] = \"Wagon\"\n",
    "cars[cars[5]==1, \"Type\"] = \"Minivan\"\n",
    "cars[cars[6]==1, \"Type\"] = \"Pickup\"\n",
    "detach(cars)\n",
    "attach(cars)\n",
    "\n",
    "# Fix the missing values for City.MPG\n",
    "L = (City.MPG == '*')\n",
    "cars2 = cars [!L,]\n",
    "cars2$City.MPG = as.integer(as.character(cars2$City.MPG))\n",
    "cars [[\"City.MPG\"]] = as.integer(as.character(cars[[\"City.MPG\"]]))\n",
    "cars [L,\"City.MPG\"] = mean (cars2$City.MPG)\n",
    "\n",
    "# Fix the missing values for Hwy.MPG\n",
    "L = (Hwy.MPG == '*')\n",
    "cars2 = cars [!L,]\n",
    "cars2$Hwy.MPG = as.integer(as.character(cars2$Hwy.MPG))\n",
    "cars [[\"Hwy.MPG\"]] = as.integer(as.character(cars[[\"Hwy.MPG\"]]))\n",
    "cars [L,\"Hwy.MPG\"] = mean (cars2$Hwy.MPG)\n",
    "\n",
    "# Fix the missing values for Wheel.Base\n",
    "L = (Wheel.Base == '*')\n",
    "cars2 = cars [!L,]\n",
    "cars2$Wheel.Base = as.integer(as.character(cars2$Wheel.Base))\n",
    "cars [[\"Wheel.Base\"]] = as.integer(as.character(cars[[\"Wheel.Base\"]]))\n",
    "cars [L,\"Wheel.Base\"] = mean (cars2$Wheel.Base)\n",
    "\n",
    "# Fix the missing values for Weight\n",
    "L = (Weight == '*')\n",
    "cars2 = cars [!L,]\n",
    "cars2$Weight = as.integer(as.character(cars2$Weight))\n",
    "cars [[\"Weight\"]] = as.integer(as.character(cars[[\"Weight\"]]))\n",
    "cars [L,\"Weight\"] = mean (cars2$Weight)\n",
    "\n",
    "# Aggregate\n",
    "Grouped = aggregate (cars[c(9,10,11,12,13,14,15,16,17)], by = list (Type), FUN = mean)\n",
    "write.table (Grouped, \"Grouped.csv\", sep=\",\")\n",
    "Grouped"
   ]
  },
  {
   "cell_type": "code",
   "execution_count": null,
   "metadata": {
    "collapsed": true
   },
   "outputs": [],
   "source": []
  }
 ],
 "metadata": {
  "celltoolbar": "Raw Cell Format",
  "kernelspec": {
   "display_name": "R",
   "language": "R",
   "name": "ir"
  },
  "language_info": {
   "codemirror_mode": "r",
   "file_extension": ".r",
   "mimetype": "text/x-r-source",
   "name": "R",
   "pygments_lexer": "r",
   "version": "3.3.3"
  }
 },
 "nbformat": 4,
 "nbformat_minor": 2
}
