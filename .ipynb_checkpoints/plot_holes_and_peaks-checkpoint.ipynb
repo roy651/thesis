{
 "cells": [
  {
   "cell_type": "code",
   "execution_count": null,
   "metadata": {
    "collapsed": false
   },
   "outputs": [],
   "source": [
    "%matplotlib inline"
   ]
  },
  {
   "cell_type": "markdown",
   "metadata": {},
   "source": [
    "\n",
    "# Filling holes and finding peaks\n",
    "\n",
    "\n",
    "We fill holes (i.e. isolated, dark spots) in an image using morphological\n",
    "reconstruction by erosion. Erosion expands the minimal values of the seed image\n",
    "until it encounters a mask image. Thus, the seed image and mask image represent\n",
    "the maximum and minimum possible values of the reconstructed image.\n",
    "\n",
    "We start with an image containing both peaks and holes:\n",
    "\n",
    "\n"
   ]
  },
  {
   "cell_type": "code",
   "execution_count": null,
   "metadata": {
    "collapsed": false
   },
   "outputs": [],
   "source": [
    "import matplotlib.pyplot as plt\n",
    "\n",
    "from skimage import data\n",
    "from skimage.exposure import rescale_intensity\n",
    "\n",
    "image = data.moon()\n",
    "# Rescale image intensity so that we can see dim features.\n",
    "image = rescale_intensity(image, in_range=(50, 200))"
   ]
  },
  {
   "cell_type": "markdown",
   "metadata": {},
   "source": [
    "Now we need to create the seed image, where the minima represent the\n",
    "starting points for erosion.  To fill holes, we initialize the seed image\n",
    "to the maximum value of the original image. Along the borders, however, we\n",
    "use the original values of the image. These border pixels will be the\n",
    "starting points for the erosion process. We then limit the erosion by\n",
    "setting the mask to the values of the original image.\n",
    "\n"
   ]
  },
  {
   "cell_type": "code",
   "execution_count": null,
   "metadata": {
    "collapsed": false
   },
   "outputs": [],
   "source": [
    "import numpy as np\n",
    "from skimage.morphology import reconstruction\n",
    "\n",
    "seed = np.copy(image)\n",
    "seed[1:-1, 1:-1] = image.max()\n",
    "mask = image\n",
    "\n",
    "filled = reconstruction(seed, mask, method='erosion')"
   ]
  },
  {
   "cell_type": "markdown",
   "metadata": {},
   "source": [
    "As shown above, eroding inward from the edges removes holes, since (by\n",
    "definition) holes are surrounded by pixels of brighter value. Finally, we\n",
    "can isolate the dark regions by subtracting the reconstructed image from\n",
    "the original image.\n",
    "\n",
    "Alternatively, we can find bright spots in an image using morphological\n",
    "reconstruction by dilation. Dilation is the inverse of erosion and expands\n",
    "the *maximal* values of the seed image until it encounters a mask image.\n",
    "Since this is an inverse operation, we initialize the seed image to the\n",
    "minimum image intensity instead of the maximum. The remainder of the\n",
    "process is the same.\n",
    "\n"
   ]
  },
  {
   "cell_type": "code",
   "execution_count": null,
   "metadata": {
    "collapsed": false
   },
   "outputs": [],
   "source": [
    "seed = np.copy(image)\n",
    "seed[1:-1, 1:-1] = image.min()\n",
    "rec = reconstruction(seed, mask, method='dilation')\n",
    "\n",
    "fig, ax = plt.subplots(2, 2, figsize=(5, 4), sharex=True, sharey=True,\n",
    "                       subplot_kw={'adjustable': 'box-forced'})\n",
    "ax = ax.ravel()\n",
    "\n",
    "ax[0].imshow(image, cmap='gray')\n",
    "ax[0].set_title('Original image')\n",
    "ax[0].axis('off')\n",
    "\n",
    "ax[1].imshow(filled, cmap='gray')\n",
    "ax[1].set_title('after filling holes')\n",
    "ax[1].axis('off')\n",
    "\n",
    "ax[2].imshow(image-filled, cmap='gray')\n",
    "ax[2].set_title('holes')\n",
    "ax[2].axis('off')\n",
    "\n",
    "ax[3].imshow(image-rec, cmap='gray')\n",
    "ax[3].set_title('peaks')\n",
    "ax[3].axis('off')\n",
    "plt.show()"
   ]
  }
 ],
 "metadata": {
  "kernelspec": {
   "display_name": "Python 3",
   "language": "python",
   "name": "python3"
  },
  "language_info": {
   "codemirror_mode": {
    "name": "ipython",
    "version": 3
   },
   "file_extension": ".py",
   "mimetype": "text/x-python",
   "name": "python",
   "nbconvert_exporter": "python",
   "pygments_lexer": "ipython3",
   "version": "3.5.2"
  }
 },
 "nbformat": 4,
 "nbformat_minor": 0
}
